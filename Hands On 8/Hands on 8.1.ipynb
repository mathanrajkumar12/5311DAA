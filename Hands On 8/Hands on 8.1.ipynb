{
  "nbformat": 4,
  "nbformat_minor": 0,
  "metadata": {
    "colab": {
      "provenance": []
    },
    "kernelspec": {
      "name": "python3",
      "display_name": "Python 3"
    },
    "language_info": {
      "name": "python"
    }
  },
  "cells": [
    {
      "cell_type": "code",
      "execution_count": null,
      "metadata": {
        "id": "osdAsenls5jQ"
      },
      "outputs": [],
      "source": [
        "def quicksort(arr):\n",
        "    if len(arr) <= 1:\n",
        "        return arr\n",
        "    pivot = arr[len(arr) // 2]\n",
        "    left = [x for x in arr if x < pivot]\n",
        "    middle = [x for x in arr if x == pivot]\n",
        "    right = [x for x in arr if x > pivot]\n",
        "    return quicksort(left) + middle + quicksort(right)\n",
        "\n",
        "def ith_order_statistic(arr, i):\n",
        "    if len(arr) <= 1:\n",
        "        return arr[0]\n",
        "    pivot = arr[len(arr) // 2]\n",
        "    left = [x for x in arr if x < pivot]\n",
        "    middle = [x for x in arr if x == pivot]\n",
        "    right = [x for x in arr if x > pivot]\n",
        "\n",
        "    if i < len(left):\n",
        "        return ith_order_statistic(left, i)\n",
        "    elif i < len(left) + len(middle):\n",
        "        return pivot\n",
        "    else:\n",
        "        return ith_order_statistic(right, i - len(left) - len(middle))\n",
        "\n",
        "# Example usage\n",
        "arr = [3, 6, 8, 10, 1, 2, 1]\n",
        "i = 4\n",
        "sorted_arr = quicksort(arr)\n",
        "ith_stat = ith_order_statistic(arr, i)\n",
        "print(f\"The sorted array is: {sorted_arr}\")\n",
        "print(f\"The {i}th order statistic is: {ith_stat}\")1. def quicksort(arr):\n",
        "    if len(arr) <= 1:\n",
        "        return arr\n",
        "    pivot = arr[len(arr) // 2]\n",
        "    left = [x for x in arr if x < pivot]\n",
        "    middle = [x for x in arr if x == pivot]\n",
        "    right = [x for x in arr if x > pivot]\n",
        "    return quicksort(left) + middle + quicksort(right)\n",
        "\n",
        "def ith_order_statistic(arr, i):\n",
        "    if len(arr) <= 1:\n",
        "        return arr[0]\n",
        "    pivot = arr[len(arr) // 2]\n",
        "    left = [x for x in arr if x < pivot]\n",
        "    middle = [x for x in arr if x == pivot]\n",
        "    right = [x for x in arr if x > pivot]\n",
        "\n",
        "    if i < len(left):\n",
        "        return ith_order_statistic(left, i)\n",
        "    elif i < len(left) + len(middle):\n",
        "        return pivot\n",
        "    else:\n",
        "        return ith_order_statistic(right, i - len(left) - len(middle))\n",
        "\n",
        "# Example usage\n",
        "arr = [3, 6, 8, 10, 1, 2, 1]\n",
        "i = 4\n",
        "sorted_arr = quicksort(arr)\n",
        "ith_stat = ith_order_statistic(arr, i)\n",
        "print(f\"The sorted array is: {sorted_arr}\")\n",
        "print(f\"The {i}th order statistic is: {ith_stat}\")"
      ]
    }
  ]
}