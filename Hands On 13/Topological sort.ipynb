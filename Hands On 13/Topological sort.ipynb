{
  "nbformat": 4,
  "nbformat_minor": 0,
  "metadata": {
    "colab": {
      "provenance": []
    },
    "kernelspec": {
      "name": "python3",
      "display_name": "Python 3"
    },
    "language_info": {
      "name": "python"
    }
  },
  "cells": [
    {
      "cell_type": "code",
      "execution_count": 4,
      "metadata": {
        "colab": {
          "base_uri": "https://localhost:8080/"
        },
        "id": "17N2IV0FWJon",
        "outputId": "68a6668d-42b2-4b8b-cc0b-fbfec22e01b5"
      },
      "outputs": [
        {
          "output_type": "stream",
          "name": "stdout",
          "text": [
            "Topological Sort of the given graph:\n",
            "[5, 4, 2, 3, 1, 0]\n"
          ]
        }
      ],
      "source": [
        "from collections import defaultdict, deque\n",
        "\n",
        "class Graph:\n",
        "    def __init__(self, vertices):\n",
        "        self.graph = defaultdict(list)\n",
        "        self.V = vertices\n",
        "\n",
        "    def add_edge(self, u, v):\n",
        "        self.graph[u].append(v)\n",
        "\n",
        "    def topological_sort_util(self, v, visited, stack):\n",
        "        visited[v] = True\n",
        "        for i in self.graph[v]:\n",
        "            if not visited[i]:\n",
        "                self.topological_sort_util(i, visited, stack)\n",
        "        stack.append(v)\n",
        "\n",
        "    def topological_sort(self):\n",
        "        visited = [False] * self.V\n",
        "        stack = []\n",
        "\n",
        "        for i in range(self.V):\n",
        "            if not visited[i]:\n",
        "                self.topological_sort_util(i, visited, stack)\n",
        "\n",
        "        stack.reverse()\n",
        "        return stack\n",
        "\n",
        "# Test Topological Sort\n",
        "g = Graph(6)\n",
        "g.add_edge(5, 2)\n",
        "g.add_edge(5, 0)\n",
        "g.add_edge(4, 0)\n",
        "g.add_edge(4, 1)\n",
        "g.add_edge(2, 3)\n",
        "g.add_edge(3, 1)\n",
        "\n",
        "print(\"Topological Sort of the given graph:\")\n",
        "print(g.topological_sort())"
      ]
    }
  ]
}