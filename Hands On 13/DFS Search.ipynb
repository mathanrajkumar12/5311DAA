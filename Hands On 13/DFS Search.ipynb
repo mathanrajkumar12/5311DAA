{
  "nbformat": 4,
  "nbformat_minor": 0,
  "metadata": {
    "colab": {
      "provenance": []
    },
    "kernelspec": {
      "name": "python3",
      "display_name": "Python 3"
    },
    "language_info": {
      "name": "python"
    }
  },
  "cells": [
    {
      "cell_type": "code",
      "execution_count": 4,
      "metadata": {
        "colab": {
          "base_uri": "https://localhost:8080/"
        },
        "id": "17N2IV0FWJon",
        "outputId": "68a6668d-42b2-4b8b-cc0b-fbfec22e01b5"
      },
      "outputs": [
        {
          "output_type": "stream",
          "name": "stdout",
          "text": [
            "Topological Sort of the given graph:\n",
            "[5, 4, 2, 3, 1, 0]\n"
          ]
        }
      ],
      "source": [
        "class Graph:\n",
        "    def __init__(self):\n",
        "        self.graph = defaultdict(list)\n",
        "\n",
        "    def add_edge(self, u, v):\n",
        "        self.graph[u].append(v)\n",
        "\n",
        "    def dfs_util(self, v, visited):\n",
        "        visited.add(v)\n",
        "        print(v, end=' ')\n",
        "        for neighbor in self.graph[v]:\n",
        "            if neighbor not in visited:\n",
        "                self.dfs_util(neighbor, visited)\n",
        "\n",
        "    def dfs(self, v):\n",
        "        visited = set()\n",
        "        self.dfs_util(v, visited)\n",
        "\n",
        "# Test DFS\n",
        "g = Graph()\n",
        "g.add_edge(0, 1)\n",
        "g.add_edge(0, 2)\n",
        "g.add_edge(1, 2)\n",
        "g.add_edge(2, 0)\n",
        "g.add_edge(2, 3)\n",
        "g.add_edge(3, 3)\n",
        "\n",
        "print(\"Depth First Traversal starting from vertex 2:\")\n",
        "g.dfs(2)"
      ]
    }
  ]
}