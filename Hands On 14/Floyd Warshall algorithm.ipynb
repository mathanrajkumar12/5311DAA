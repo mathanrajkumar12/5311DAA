{
  "nbformat": 4,
  "nbformat_minor": 0,
  "metadata": {
    "colab": {
      "provenance": []
    },
    "kernelspec": {
      "name": "python3",
      "display_name": "Python 3"
    },
    "language_info": {
      "name": "python"
    }
  },
  "cells": [
    {
      "cell_type": "code",
      "execution_count": 4,
      "metadata": {
        "colab": {
          "base_uri": "https://localhost:8080/"
        },
        "id": "hbwWT9f0Zcfm",
        "outputId": "40b72701-ea60-440f-82dd-d03de7093541"
      },
      "outputs": [
        {
          "output_type": "stream",
          "name": "stdout",
          "text": [
            "All-pairs shortest paths:\n",
            "Shortest path from A to A: 0\n",
            "Shortest path from A to B: 3\n",
            "Shortest path from A to C: 5\n",
            "Shortest path from A to D: 4\n",
            "Shortest path from B to A: 8\n",
            "Shortest path from B to B: 0\n",
            "Shortest path from B to C: 2\n",
            "Shortest path from B to D: 1\n",
            "Shortest path from C to A: 11\n",
            "Shortest path from C to B: 14\n",
            "Shortest path from C to C: 0\n",
            "Shortest path from C to D: 4\n",
            "Shortest path from D to A: 7\n",
            "Shortest path from D to B: 10\n",
            "Shortest path from D to C: 12\n",
            "Shortest path from D to D: 0\n"
          ]
        }
      ],
      "source": [
        "def floyd_warshall(graph):\n",
        "    nodes = list(graph.keys())\n",
        "    distances = {i: {j: float('inf') for j in nodes} for i in nodes}\n",
        "    for node in nodes:\n",
        "        distances[node][node] = 0\n",
        "        for neighbor, weight in graph[node].items():\n",
        "            distances[node][neighbor] = weight\n",
        "\n",
        "    for k in nodes:\n",
        "        for i in nodes:\n",
        "            for j in nodes:\n",
        "                distances[i][j] = min(distances[i][j], distances[i][k] + distances[k][j])\n",
        "\n",
        "    return distances\n",
        "\n",
        "graph = {\n",
        "    'A': {'B': 3, 'C': 8},\n",
        "    'B': {'C': 2, 'D': 1},\n",
        "    'C': {'D': 4},\n",
        "    'D': {'A': 7},\n",
        "}\n",
        "\n",
        "shortest_paths = floyd_warshall(graph)\n",
        "\n",
        "print(\"All-pairs shortest paths:\")\n",
        "for start, destinations in shortest_paths.items():\n",
        "    for end, distance in destinations.items():\n",
        "        print(f\"Shortest path from {start} to {end}: {distance}\")\n"
      ]
    }
  ]
}