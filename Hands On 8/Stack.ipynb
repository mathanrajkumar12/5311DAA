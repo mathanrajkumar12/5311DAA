{
  "nbformat": 4,
  "nbformat_minor": 0,
  "metadata": {
    "colab": {
      "provenance": []
    },
    "kernelspec": {
      "name": "python3",
      "display_name": "Python 3"
    },
    "language_info": {
      "name": "python"
    }
  },
  "cells": [
    {
      "cell_type": "code",
      "execution_count": 6,
      "metadata": {
        "colab": {
          "base_uri": "https://localhost:8080/"
        },
        "id": "osdAsenls5jQ",
        "outputId": "4932db54-e0a7-4e95-fd18-9a7114af4888"
      },
      "outputs": [
        {
          "output_type": "stream",
          "name": "stdout",
          "text": [
            "30\n",
            "20\n",
            "40\n"
          ]
        }
      ],
      "source": [
        "class Stack:\n",
        "    def __init__(self, size):\n",
        "        self.size = size\n",
        "        self.stack = [0] * size\n",
        "        self.top = -1\n",
        "\n",
        "    def is_full(self):\n",
        "        return self.top == self.size - 1\n",
        "\n",
        "    def is_empty(self):\n",
        "        return self.top == -1\n",
        "\n",
        "    def push(self, value):\n",
        "        if not self.is_full():\n",
        "            self.top += 1\n",
        "            self.stack[self.top] = value\n",
        "\n",
        "    def pop(self):\n",
        "        if not self.is_empty():\n",
        "            value = self.stack[self.top]\n",
        "            self.top -= 1\n",
        "            return value\n",
        "        return -1  # Handle underflow condition\n",
        "stack = Stack(5)\n",
        "stack.push(10)\n",
        "stack.push(20)\n",
        "stack.push(30)\n",
        "print(stack.pop())  # Output: 30\n",
        "print(stack.pop())  # Output: 20\n",
        "stack.push(40)\n",
        "print(stack.pop())  # Output: 40"
      ]
    }
  ]
}