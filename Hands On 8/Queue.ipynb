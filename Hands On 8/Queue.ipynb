{
  "nbformat": 4,
  "nbformat_minor": 0,
  "metadata": {
    "colab": {
      "provenance": []
    },
    "kernelspec": {
      "name": "python3",
      "display_name": "Python 3"
    },
    "language_info": {
      "name": "python"
    }
  },
  "cells": [
    {
      "cell_type": "code",
      "execution_count": 8,
      "metadata": {
        "colab": {
          "base_uri": "https://localhost:8080/"
        },
        "id": "osdAsenls5jQ",
        "outputId": "8514ba34-43ab-4c27-d61d-0ae05174a83e"
      },
      "outputs": [
        {
          "output_type": "stream",
          "name": "stdout",
          "text": [
            "10\n",
            "20\n",
            "30\n"
          ]
        }
      ],
      "source": [
        "class Queue:\n",
        "    def __init__(self, size):\n",
        "        self.size = size\n",
        "        self.queue = [0] * size\n",
        "        self.front = 0\n",
        "        self.rear = -1\n",
        "        self.count = 0\n",
        "\n",
        "    def is_full(self):\n",
        "        return self.count == self.size\n",
        "\n",
        "    def is_empty(self):\n",
        "        return self.count == 0\n",
        "\n",
        "    def enqueue(self, value):\n",
        "        if not self.is_full():\n",
        "            self.rear = (self.rear + 1) % self.size\n",
        "            self.queue[self.rear] = value\n",
        "            self.count += 1\n",
        "\n",
        "    def dequeue(self):\n",
        "        if not self.is_empty():\n",
        "            value = self.queue[self.front]\n",
        "            self.front = (self.front + 1) % self.size\n",
        "            self.count -= 1\n",
        "            return value\n",
        "        return -1  # Handle underflow condition\n",
        "\n",
        "\n",
        "queue = Queue(5)\n",
        "queue.enqueue(10)\n",
        "queue.enqueue(20)\n",
        "queue.enqueue(30)\n",
        "print(queue.dequeue())  # Output: 10\n",
        "print(queue.dequeue())  # Output: 20\n",
        "queue.enqueue(40)\n",
        "print(queue.dequeue())  # Output: 30"
      ]
    }
  ]
}