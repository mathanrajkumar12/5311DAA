{
  "nbformat": 4,
  "nbformat_minor": 0,
  "metadata": {
    "colab": {
      "provenance": []
    },
    "kernelspec": {
      "name": "python3",
      "display_name": "Python 3"
    },
    "language_info": {
      "name": "python"
    }
  },
  "cells": [
    {
      "cell_type": "code",
      "execution_count": 1,
      "metadata": {
        "colab": {
          "base_uri": "https://localhost:8080/"
        },
        "id": "012w8JrnTt-b",
        "outputId": "60dfe7ac-7605-4946-fee0-c4a16dbd5eca"
      },
      "outputs": [
        {
          "output_type": "stream",
          "name": "stdout",
          "text": [
            "Dynamic array: [10, 20, 30]\n",
            "Length of the array: 3\n",
            "Element at index 0: 10\n",
            "Element at index 1: 20\n",
            "Element at index 2: 30\n",
            "Dynamic array after adding an element: [10, 20, 30, 40]\n",
            "Length of the array after adding: 4\n"
          ]
        }
      ],
      "source": [
        "import ctypes\n",
        "\n",
        "class DynamicArray:\n",
        "    def __init__(self):\n",
        "        self.size = 0\n",
        "        self.capacity = 1\n",
        "        self.array = self._create_array(self.capacity)\n",
        "\n",
        "    def _create_array(self, capacity):\n",
        "        return (capacity * ctypes.py_object)()\n",
        "\n",
        "    def _resize(self, new_capacity):\n",
        "        new_array = self._create_array(new_capacity)\n",
        "        for i in range(self.size):\n",
        "            new_array[i] = self.array[i]\n",
        "        self.array = new_array\n",
        "        self.capacity = new_capacity\n",
        "\n",
        "    def add(self, value):\n",
        "        if self.size == self.capacity\n",
        "            self._resize(2 * self.capacity)\n",
        "        self.array[self.size] = value\n",
        "        self.size += 1\n",
        "\n",
        "    def get(self, index):\n",
        "        if not 0 <= index < self.size:\n",
        "            raise IndexError(\"Index out of bounds\")\n",
        "        return self.array[index]\n",
        "\n",
        "    def __len__(self):\n",
        "        return self.size\n",
        "\n",
        "    def __str__(self):\n",
        "        return \"[\" + \", \".join(str(self.array[i]) for i in range(self.size)) + \"]\"\n",
        "\n",
        "# Example usage:\n",
        "dynamic_array = DynamicArray()\n",
        "dynamic_array.add(10)\n",
        "dynamic_array.add(20)\n",
        "dynamic_array.add(30)\n",
        "\n",
        "print(\"Dynamic array:\", dynamic_array)\n",
        "print(\"Length of the array:\", len(dynamic_array))\n",
        "\n",
        "# Accessing the elements\n",
        "print(\"Element at index 0:\", dynamic_array.get(0))\n",
        "print(\"Element at index 1:\", dynamic_array.get(1))\n",
        "print(\"Element at index 2:\", dynamic_array.get(2))\n",
        "\n",
        "# Adding more elements to initate a resize\n",
        "dynamic_array.add(40)\n",
        "print(\"Dynamic array after adding an element:\", dynamic_array)\n",
        "print(\"Length of the array after adding:\", len(dynamic_array))\n"
      ]
    }
  ]
}