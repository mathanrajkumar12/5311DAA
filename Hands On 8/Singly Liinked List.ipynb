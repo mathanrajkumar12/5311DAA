{
  "nbformat": 4,
  "nbformat_minor": 0,
  "metadata": {
    "colab": {
      "provenance": []
    },
    "kernelspec": {
      "name": "python3",
      "display_name": "Python 3"
    },
    "language_info": {
      "name": "python"
    }
  },
  "cells": [
    {
      "cell_type": "code",
      "execution_count": 13,
      "metadata": {
        "colab": {
          "base_uri": "https://localhost:8080/"
        },
        "id": "osdAsenls5jQ",
        "outputId": "6cb496ca-b2e8-4395-ea7d-ef56bce59788"
      },
      "outputs": [
        {
          "output_type": "stream",
          "name": "stdout",
          "text": [
            "True\n",
            "False\n"
          ]
        }
      ],
      "source": [
        "class Node:\n",
        "    def __init__(self, data):\n",
        "        self.data = data\n",
        "        self.next = None\n",
        "\n",
        "class SinglyLinkedList:\n",
        "    def __init__(self):\n",
        "        self.head = None\n",
        "\n",
        "    def append(self, value):\n",
        "        new_node = Node(value)\n",
        "        if self.head is None:\n",
        "            self.head = new_node\n",
        "        else:\n",
        "            current = self.head\n",
        "            while current.next is not None:\n",
        "                current = current.next\n",
        "            current.next = new_node\n",
        "\n",
        "    def delete(self, value):\n",
        "        current = self.head\n",
        "        previous = None\n",
        "        while current is not None and current.data != value:\n",
        "            previous = current\n",
        "            current = current.next\n",
        "        if current is None:\n",
        "            return False  # Value not found\n",
        "        if previous is None:\n",
        "            self.head = current.next\n",
        "        else:\n",
        "            previous.next = current.next\n",
        "        return True  # Value deleted\n",
        "\n",
        "\n",
        "\n",
        "list = SinglyLinkedList()\n",
        "list.append(10)\n",
        "list.append(20)\n",
        "list.append(30)\n",
        "print(list.delete(20))  # Output: True (20 is deleted)\n",
        "print(list.delete(40))  # Output: False (40 is not in the list)"
      ]
    }
  ]
}