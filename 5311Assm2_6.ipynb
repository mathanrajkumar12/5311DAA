{
  "cells": [
    {
      "cell_type": "code",
      "source": [
        "def merge_sort(arr):\n",
        "    # Base case: An array with 0 or 1 elements is already sorted\n",
        "    if len(arr) <= 1:\n",
        "        return arr\n",
        "\n",
        "    # Find the middle point to divide the array into two halves\n",
        "    middle = len(arr) // 2\n",
        "    left_part = arr[:middle]\n",
        "    right_part = arr[middle:]\n",
        "\n",
        "    # Recursively apply merge_sort to both halves\n",
        "    sorted_left = merge_sort(left_part)\n",
        "    sorted_right = merge_sort(right_part)\n",
        "\n",
        "    # Combine the sorted halves\n",
        "    return merge(sorted_left, sorted_right)\n",
        "\n",
        "def merge(left, right):\n",
        "    # Initialize the merged array and two pointers for both arrays\n",
        "    result = []\n",
        "    left_idx, right_idx = 0, 0\n",
        "\n",
        "    # Compare and merge the elements from both arrays\n",
        "    while left_idx < len(left) and right_idx < len(right):\n",
        "        if left[left_idx] <= right[right_idx]:\n",
        "            result.append(left[left_idx])\n",
        "            left_idx += 1\n",
        "        else:\n",
        "            result.append(right[right_idx])\n",
        "            right_idx += 1\n",
        "\n",
        "    # Append any remaining elements from the left array\n",
        "    result.extend(left[left_idx:])\n",
        "\n",
        "    # Append any remaining elements from the right array\n",
        "    result.extend(right[right_idx:])\n",
        "\n",
        "    return result\n",
        "\n",
        "# Testing the merge sort algorithm with the array [5, 2, 4, 7, 1, 3, 2, 6]\n",
        "arr = [5, 2, 4, 7, 1, 3, 2, 6]\n",
        "sorted_arr = merge_sort(arr)\n",
        "print(\"Original Array:\", arr)\n",
        "print(\"Sorted Array:\", sorted_arr)"
      ],
      "metadata": {
        "id": "wPYXBS6rRjr-",
        "outputId": "367ec9df-cbc1-407f-a247-9e5ceeab3aaa",
        "colab": {
          "base_uri": "https://localhost:8080/"
        }
      },
      "execution_count": null,
      "outputs": [
        {
          "output_type": "stream",
          "name": "stdout",
          "text": [
            "Original Array: [5, 2, 4, 7, 1, 3, 2, 6]\n",
            "Sorted Array: [1, 2, 2, 3, 4, 5, 6, 7]\n"
          ]
        }
      ]
    },
    {
      "cell_type": "code",
      "source": [],
      "metadata": {
        "id": "By4FFz3QRnyv"
      },
      "execution_count": null,
      "outputs": []
    }
  ],
  "metadata": {
    "colab": {
      "toc_visible": true,
      "provenance": []
    },
    "kernelspec": {
      "display_name": "Python 3",
      "name": "python3"
    }
  },
  "nbformat": 4,
  "nbformat_minor": 0
}