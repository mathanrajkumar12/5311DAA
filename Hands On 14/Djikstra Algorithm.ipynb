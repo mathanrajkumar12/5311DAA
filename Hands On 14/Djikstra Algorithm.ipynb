{
  "nbformat": 4,
  "nbformat_minor": 0,
  "metadata": {
    "colab": {
      "provenance": []
    },
    "kernelspec": {
      "name": "python3",
      "display_name": "Python 3"
    },
    "language_info": {
      "name": "python"
    }
  },
  "cells": [
    {
      "cell_type": "code",
      "execution_count": 1,
      "metadata": {
        "id": "hbwWT9f0Zcfm",
        "outputId": "09f8ed33-e12d-41b0-ec33-2482862aef4e",
        "colab": {
          "base_uri": "https://localhost:8080/"
        }
      },
      "outputs": [
        {
          "output_type": "stream",
          "name": "stdout",
          "text": [
            "Shortest distances from Home :\n",
            "- To Home: 0\n",
            "- To School: 5\n",
            "- To Library: 6\n",
            "- To Supermarket: 2\n",
            "\n",
            "Shortest path from Home to Library:\n",
            "Home -> Supermarket -> Library\n"
          ]
        }
      ],
      "source": [
        "import heapq\n",
        "\n",
        "def dijkstra(graph, start):\n",
        "    distances = {node: float('infinity') for node in graph}\n",
        "    distances[start] = 0\n",
        "    priority_queue = [(0, start)]\n",
        "    parents = {node: None for node in graph}\n",
        "\n",
        "    while priority_queue:\n",
        "        current_distance, current_node = heapq.heappop(priority_queue)\n",
        "\n",
        "        for neighbor, weight in graph[current_node].items():\n",
        "            new_distance = current_distance + weight\n",
        "            if new_distance < distances[neighbor]:\n",
        "                distances[neighbor] = new_distance\n",
        "                parents[neighbor] = current_node\n",
        "                heapq.heappush(priority_queue, (new_distance, neighbor))\n",
        "\n",
        "    return distances, parents\n",
        "\n",
        "graph = {\n",
        "    'Home': {'School': 5, 'Supermarket': 2},\n",
        "    'School': {'Home': 5, 'Library': 3},\n",
        "    'Library': {'School': 3, 'Supermarket': 4},\n",
        "    'Supermarket': {'Home': 2, 'Library': 4}\n",
        "}\n",
        "\n",
        "start_location = 'Home'\n",
        "shortest_paths, parents = dijkstra(graph, start_location)\n",
        "\n",
        "print(\"Shortest distances from\", start_location, \":\")\n",
        "for location, distance in shortest_paths.items():\n",
        "    print(f\"- To {location}: {distance}\")\n",
        "\n",
        "def reconstruct_path(parents, target):\n",
        "    path = []\n",
        "    current = target\n",
        "    while current:\n",
        "        path.append(current)\n",
        "        current = parents[current]\n",
        "    return path[::-1]\n",
        "\n",
        "destination = 'Library'\n",
        "print(f\"\\nShortest path from {start_location} to {destination}:\")\n",
        "print(\" -> \".join(reconstruct_path(parents, destination)))\n"
      ]
    }
  ]
}