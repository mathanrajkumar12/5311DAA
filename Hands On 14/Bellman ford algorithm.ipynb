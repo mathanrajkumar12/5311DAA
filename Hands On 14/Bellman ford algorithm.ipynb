{
  "nbformat": 4,
  "nbformat_minor": 0,
  "metadata": {
    "colab": {
      "provenance": []
    },
    "kernelspec": {
      "name": "python3",
      "display_name": "Python 3"
    },
    "language_info": {
      "name": "python"
    }
  },
  "cells": [
    {
      "cell_type": "code",
      "execution_count": 3,
      "metadata": {
        "colab": {
          "base_uri": "https://localhost:8080/"
        },
        "id": "hbwWT9f0Zcfm",
        "outputId": "1c7a1178-65c5-496a-a672-d8df89256558"
      },
      "outputs": [
        {
          "output_type": "stream",
          "name": "stdout",
          "text": [
            "Shortest distances from A :\n",
            "- To A: 0\n",
            "- To B: 4\n",
            "- To C: 2\n",
            "- To D: 6\n",
            "- To E: 3\n",
            "\n",
            "Shortest path from A to E: A -> B -> D -> E\n"
          ]
        }
      ],
      "source": [
        "def bellman_ford(graph, start):\n",
        "    distances = {node: float('inf') for node in graph}\n",
        "    distances[start] = 0\n",
        "    parents = {node: None for node in graph}\n",
        "    for _ in range(len(graph) - 1):\n",
        "        for node in graph:\n",
        "            for neighbor, weight in graph[node].items():\n",
        "                if distances[node] + weight < distances[neighbor]:\n",
        "                    distances[neighbor] = distances[node] + weight\n",
        "                    parents[neighbor] = node\n",
        "    for node in graph:\n",
        "        for neighbor, weight in graph[node].items():\n",
        "            if distances[node] + weight < distances[neighbor]:\n",
        "                raise ValueError(\"Graph contains a negative weight cycle\")\n",
        "\n",
        "    return distances, parents\n",
        "\n",
        "def reconstruct_path(parents, start, end):\n",
        "    path = []\n",
        "    current = end\n",
        "    while current is not None:\n",
        "        path.append(current)\n",
        "        current = parents[current]\n",
        "    if path[-1] != start:\n",
        "        return None\n",
        "    return path[::-1]\n",
        "\n",
        "graph = {\n",
        "    'A': {'B': 4, 'C': 2},\n",
        "    'B': {'C': 1, 'D': 2},\n",
        "    'C': {'D': 7, 'E': 5},\n",
        "    'D': {'E': -3},\n",
        "    'E': {}\n",
        "}\n",
        "\n",
        "start_node = 'A'\n",
        "try:\n",
        "    distances, parents = bellman_ford(graph, start_node)\n",
        "    print(\"Shortest distances from\", start_node, \":\")\n",
        "    for node, distance in distances.items():\n",
        "        print(f\"- To {node}: {distance}\")\n",
        "    target_node = 'E'\n",
        "    path = reconstruct_path(parents, start_node, target_node)\n",
        "    if path:\n",
        "        print(f\"\\nShortest path from {start_node} to {target_node}: {' -> '.join(path)}\")\n",
        "    else:\n",
        "        print(f\"\\nNo path from {start_node} to {target_node}\")\n",
        "except ValueError as e:\n",
        "    print(e)\n"
      ]
    }
  ]
}