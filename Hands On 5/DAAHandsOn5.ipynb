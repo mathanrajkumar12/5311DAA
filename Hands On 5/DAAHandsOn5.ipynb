{
  "cells": [
    {
      "cell_type": "code",
      "source": [
        "from typing import TypeVar, List, Optional\n",
        "\n",
        "T = TypeVar('T')\n",
        "\n",
        "class Heap:\n",
        "    def __init__(self, arr: List[T]) -> None:\n",
        "        self.heap: List[T] = arr\n",
        "        self.build_min_heap()\n",
        "\n",
        "    def insertElement(self, value: T) -> None:\n",
        "        self.heap.append(value)\n",
        "        self._bubble_up(len(self.heap) - 1)\n",
        "\n",
        "    def _bubble_up(self, i: int) -> None:\n",
        "        parent = (i - 1) >> 1\n",
        "        while i > 0 and self.heap[i] < self.heap[parent]:\n",
        "            self.heap[i], self.heap[parent] = self.heap[parent], self.heap[i]\n",
        "            i = parent\n",
        "            parent = (i - 1) >> 1\n",
        "\n",
        "    def heapify(self, n: int, i: int) -> None:\n",
        "        smallest = i\n",
        "        left = (i << 1) + 1\n",
        "        right = (i << 1) + 2\n",
        "\n",
        "        if left < n and self.heap[left] < self.heap[smallest]:\n",
        "            smallest = left\n",
        "        if right < n and self.heap[right] < self.heap[smallest]:\n",
        "            smallest = right\n",
        "\n",
        "        if smallest != i:\n",
        "            self.heap[i], self.heap[smallest] = self.heap[smallest], self.heap[i]\n",
        "            self.heapify(n, smallest)\n",
        "\n",
        "    def build_min_heap(self) -> None:\n",
        "        n = len(self.heap)\n",
        "        for i in range(n // 2 - 1, -1, -1):\n",
        "            self.heapify(n, i)\n",
        "\n",
        "    def get_root(self) -> Optional[T]:\n",
        "        return self.heap[0] if self.heap else None\n",
        "\n",
        "    def pop(self) -> Optional[T]:\n",
        "        if not self.heap:\n",
        "            return None\n",
        "        root_value = self.heap[0]\n",
        "        self.heap[0] = self.heap[-1]\n",
        "        self.heap.pop()\n",
        "        self.heapify(len(self.heap), 0)\n",
        "        return root_value\n",
        "\n",
        "    def size(self) -> int:\n",
        "        return len(self.heap)\n",
        "\n",
        "\n",
        "if __name__ == '__main__':\n",
        "    # Example usage\n",
        "    arr = [50, 20, 30, 10, 15, 5, 25]\n",
        "    heap = Heap(arr)\n",
        "    print(f'Min Heap: {heap.heap}')\n",
        "\n",
        "    heap.insertElement(2)\n",
        "    print(\"Heap after inserting 2:\", heap.heap)\n",
        "\n",
        "    root = heap.get_root()\n",
        "    print(f'Root element: {root}')\n",
        "\n",
        "    popped_value = heap.pop()\n",
        "    print(f'Heap after popping root ({popped_value}): {heap.heap}')\n"
      ],
      "metadata": {
        "id": "1XOi7ZSMnnZs",
        "outputId": "877e474e-9405-4312-9fad-793e0cc13bb0",
        "colab": {
          "base_uri": "https://localhost:8080/"
        }
      },
      "execution_count": null,
      "outputs": [
        {
          "output_type": "stream",
          "name": "stdout",
          "text": [
            "Min Heap: [5, 10, 25, 20, 15, 30, 50]\n",
            "Heap after inserting 2: [2, 5, 25, 10, 15, 30, 50, 20]\n",
            "Root element: 2\n",
            "Heap after popping root (2): [5, 10, 25, 20, 15, 30, 50]\n"
          ]
        }
      ]
    },
    {
      "cell_type": "code",
      "source": [
        "# Initialize the heap\n",
        "min_heap = MinHeap()\n",
        "\n",
        "# Insert elements into the heap\n",
        "min_heap.insert(10)\n",
        "min_heap.insert(20)\n",
        "min_heap.insert(15)\n",
        "min_heap.insert(30)\n",
        "min_heap.insert(40)\n",
        "min_heap.insert(5)\n",
        "\n",
        "# Print heap after inserts\n",
        "print(\"Heap after inserting elements:\")\n",
        "min_heap.print_heap()\n",
        "\n",
        "# Build a heap from an arbitrary list\n",
        "min_heap.build_min_heap([9, 7, 3, 1, 10, 8])\n",
        "print(\"Heap after building from an array [9, 7, 3, 1, 10, 8]:\")\n",
        "min_heap.print_heap()\n",
        "\n",
        "# Get and remove the root (min element)\n",
        "min_element = min_heap.pop_min()\n",
        "print(f\"Popped minimum element: {min_element}\")\n",
        "\n",
        "# Print heap after popping the root\n",
        "print(\"Heap after popping the minimum element:\")\n",
        "min_heap.print_heap()\n",
        "\n",
        "# Insert a new element and print the heap\n",
        "min_heap.insert(2)\n",
        "print(\"Heap after inserting 2:\")\n",
        "min_heap.print_heap()\n",
        "\n",
        "# Get the current minimum without removing it\n",
        "current_min = min_heap.get_min()\n",
        "print(f\"Current minimum element: {current_min}\")"
      ],
      "metadata": {
        "id": "J1XE61NUo4Mr",
        "outputId": "3157769c-d628-4370-b478-f7b422a34b3c",
        "colab": {
          "base_uri": "https://localhost:8080/"
        }
      },
      "execution_count": null,
      "outputs": [
        {
          "output_type": "stream",
          "name": "stdout",
          "text": [
            "Heap after inserting elements:\n",
            "[5, 20, 10, 30, 40, 15]\n",
            "Heap after building from an array [9, 7, 3, 1, 10, 8]:\n",
            "[1, 7, 3, 9, 10, 8]\n",
            "Popped minimum element: 1\n",
            "Heap after popping the minimum element:\n",
            "[3, 7, 8, 9, 10]\n",
            "Heap after inserting 2:\n",
            "[2, 7, 3, 9, 10, 8]\n",
            "Current minimum element: 2\n"
          ]
        }
      ]
    }
  ],
  "metadata": {
    "colab": {
      "toc_visible": true,
      "provenance": []
    },
    "kernelspec": {
      "display_name": "Python 3",
      "name": "python3"
    }
  },
  "nbformat": 4,
  "nbformat_minor": 0
}