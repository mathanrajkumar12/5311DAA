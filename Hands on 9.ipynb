{
  "cells": [
    {
      "cell_type": "code",
      "source": [
        "#Doubly Linked List Node\n",
        "class Node:\n",
        "    def __init__(self, key, value):\n",
        "        self.key = key\n",
        "        self.value = value\n",
        "        self.prev = None\n",
        "        self.next = None\n"
      ],
      "metadata": {
        "id": "GCiJDPBACMSA"
      },
      "execution_count": 6,
      "outputs": []
    },
    {
      "cell_type": "code",
      "source": [
        "#Doubly Linked List\n",
        "class DoublyLinkedList:\n",
        "    def __init__(self):\n",
        "        self.head = None\n",
        "        self.tail = None\n",
        "\n",
        "    def insert(self, key, value):\n",
        "        new_node = Node(key, value)\n",
        "        if self.head is None:\n",
        "            self.head = self.tail = new_node\n",
        "        else:\n",
        "            self.tail.next = new_node\n",
        "            new_node.prev = self.tail\n",
        "            self.tail = new_node\n",
        "\n",
        "    def remove(self, node):\n",
        "        if node.prev:\n",
        "            node.prev.next = node.next\n",
        "        if node.next:\n",
        "            node.next.prev = node.prev\n",
        "        if node == self.head:\n",
        "            self.head = node.next\n",
        "        if node == self.tail:\n",
        "            self.tail = node.prev\n",
        "        node.prev = node.next = None\n",
        "\n",
        "    def find(self, key):\n",
        "        current = self.head\n",
        "        while current:\n",
        "            if current.key == key:\n",
        "                return current\n",
        "            current = current.next\n",
        "        return None\n"
      ],
      "metadata": {
        "id": "alv6HLCECSKP"
      },
      "execution_count": 7,
      "outputs": []
    },
    {
      "cell_type": "code",
      "source": [
        "#Hash table\n",
        "class HashTable:\n",
        "    def __init__(self, initial_capacity=8, max_load_factor=0.75):\n",
        "        self.table = [DoublyLinkedList() for _ in range(initial_capacity)]\n",
        "        self.capacity = initial_capacity\n",
        "        self.size = 0\n",
        "        self.max_load_factor = max_load_factor\n",
        "\n",
        "    def hash_function(self, key):\n",
        "        A = 0.6180339887  # Fractional part of the golden ratio\n",
        "        return int(self.capacity * ((key * A) % 1))\n",
        "\n",
        "    def insert(self, key, value):\n",
        "        if self.size > self.capacity * self.max_load_factor:\n",
        "            self.resize(self.capacity * 2)\n",
        "        index = self.hash_function(key)\n",
        "        node = self.table[index].find(key)\n",
        "        if node:\n",
        "            node.value = value\n",
        "        else:\n",
        "            self.table[index].insert(key, value)\n",
        "            self.size += 1\n",
        "\n",
        "    def remove(self, key):\n",
        "        index = self.hash_function(key)\n",
        "        node = self.table[index].find(key)\n",
        "        if node:\n",
        "            self.table[index].remove(node)\n",
        "            self.size -= 1\n",
        "            if self.size < self.capacity * self.max_load_factor / 4 and self.capacity > 8:\n",
        "                self.resize(self.capacity // 2)\n",
        "\n",
        "    def get(self, key):\n",
        "        index = self.hash_function(key)\n",
        "        node = self.table[index].find(key)\n",
        "        if node:\n",
        "            return node.value\n",
        "        return None\n",
        "\n",
        "    def resize(self, new_capacity):\n",
        "        old_table = self.table\n",
        "        self.table = [DoublyLinkedList() for _ in range(new_capacity)]\n",
        "        self.capacity = new_capacity\n",
        "        self.size = 0\n",
        "        for linked_list in old_table:\n",
        "            current = linked_list.head\n",
        "            while current:\n",
        "                self.insert(current.key, current.value)\n",
        "                current = current.next\n"
      ],
      "metadata": {
        "id": "FgkxlSj_CVxw"
      },
      "execution_count": 5,
      "outputs": []
    },
    {
      "cell_type": "code",
      "source": [
        "#Example Usage\n",
        "ht = HashTable()\n",
        "ht.insert(1, 10)\n",
        "ht.insert(2, 20)\n",
        "ht.insert(3, 30)\n",
        "print(ht.get(1))  # Output: 10\n",
        "print(ht.get(2))  # Output: 20\n",
        "ht.remove(1)\n",
        "print(ht.get(1))  # Output: None\n"
      ],
      "metadata": {
        "id": "zPuwhRaoC-st",
        "outputId": "3918ee32-6ea1-48cc-e657-e3bc115ffb6a",
        "colab": {
          "base_uri": "https://localhost:8080/"
        }
      },
      "execution_count": 8,
      "outputs": [
        {
          "output_type": "stream",
          "name": "stdout",
          "text": [
            "10\n",
            "20\n",
            "None\n"
          ]
        }
      ]
    }
  ],
  "metadata": {
    "colab": {
      "name": "Welcome To Colab",
      "toc_visible": true,
      "provenance": []
    },
    "kernelspec": {
      "display_name": "Python 3",
      "name": "python3"
    }
  },
  "nbformat": 4,
  "nbformat_minor": 0
}